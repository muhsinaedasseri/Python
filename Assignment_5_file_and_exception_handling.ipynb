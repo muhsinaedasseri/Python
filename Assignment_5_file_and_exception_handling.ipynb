{
 "cells": [
  {
   "cell_type": "code",
   "execution_count": 2,
   "id": "c82a4e97",
   "metadata": {},
   "outputs": [],
   "source": [
    "#writing a file\n",
    "file=open('demo_file.txt','w')\n",
    "file.write('hi, good_morning')\n",
    "file.close()\n"
   ]
  },
  {
   "cell_type": "code",
   "execution_count": 3,
   "id": "a274eaee",
   "metadata": {},
   "outputs": [
    {
     "name": "stdout",
     "output_type": "stream",
     "text": [
      "content of the file: \n",
      "hi, good_morning\n"
     ]
    }
   ],
   "source": [
    "#Exercise_1\n",
    "#Read a file and display its contents\n",
    "\n",
    "with open('demo_file.txt','r') as abc:\n",
    "    content = abc.read()\n",
    "    print(\"content of the file: \")\n",
    "    print(content)\n",
    "    \n",
    "    "
   ]
  },
  {
   "cell_type": "code",
   "execution_count": 6,
   "id": "fcf741d7",
   "metadata": {},
   "outputs": [
    {
     "name": "stdout",
     "output_type": "stream",
     "text": [
      "content of the file: \n",
      "hi, good_morning\n"
     ]
    }
   ],
   "source": [
    "#Exercise_2\n",
    "#  Copy contents of one file to another\n",
    "\n",
    "with open(\"demo_file.txt\", \"r\") as source_file:\n",
    "    data = source_file.read()\n",
    "\n",
    "with open(\"demo_file_2.txt\", \"w\") as dest_file:\n",
    "    dest_file.write(data)\n",
    "    print(\"content of the file: \")\n",
    "    print(data)\n",
    "    "
   ]
  },
  {
   "cell_type": "code",
   "execution_count": 7,
   "id": "978f5113",
   "metadata": {},
   "outputs": [
    {
     "name": "stdout",
     "output_type": "stream",
     "text": [
      "Total number of words: 2\n"
     ]
    }
   ],
   "source": [
    " #excercise_3\n",
    "#Count total number of words in a file \n",
    "\n",
    "with open(\"demo_file.txt\", \"r\") as file:\n",
    "    text = file.read()\n",
    "    words = text.split()\n",
    "    print(\"Total number of words:\", len(words))\n",
    "\n",
    "    "
   ]
  },
  {
   "cell_type": "code",
   "execution_count": 9,
   "id": "d77f429e",
   "metadata": {},
   "outputs": [
    {
     "name": "stdout",
     "output_type": "stream",
     "text": [
      "Enter a number: e\n",
      "Invalid input. Please enter a valid integer.\n"
     ]
    }
   ],
   "source": [
    "# Exercise_4\n",
    "# Convert string input to integer with exception handling\n",
    "\n",
    "try:\n",
    "    user_input = input(\"Enter a number: \")\n",
    "    number = int(user_input)\n",
    "    print(\"You entered:\", number)\n",
    "except ValueError:\n",
    "    print(\"Invalid input. Please enter a valid integer.\")\n"
   ]
  },
  {
   "cell_type": "code",
   "execution_count": 10,
   "id": "56a66638",
   "metadata": {},
   "outputs": [
    {
     "name": "stdout",
     "output_type": "stream",
     "text": [
      "Enter a list of integers separated by spaces: 2 3 4 5 6 8 -1\n",
      "Error: Negative numbers are not allowed.\n"
     ]
    }
   ],
   "source": [
    "#exercise_5\n",
    "#Raise exception for negative integers\n",
    "\n",
    "try:\n",
    "    nums = list(map(int, input(\"Enter a list of integers separated by spaces: \").split()))\n",
    "    for n in nums:\n",
    "        if n < 0:\n",
    "            raise ValueError(\"Negative numbers are not allowed.\")\n",
    "    print(\"All numbers are non-negative.\")\n",
    "except ValueError as e:\n",
    "    print(\"Error:\", e)\n"
   ]
  },
  {
   "cell_type": "code",
   "execution_count": 11,
   "id": "28360228",
   "metadata": {},
   "outputs": [
    {
     "name": "stdout",
     "output_type": "stream",
     "text": [
      "Enter integers separated by space: 5 67 88 77 45\n",
      "Average: 56.4\n",
      "Program has finished running.\n"
     ]
    }
   ],
   "source": [
    "# exercise_6\n",
    "# Compute average of integers with exception handling and finally\n",
    "\n",
    "try:\n",
    "    numbers = list(map(int, input(\"Enter integers separated by space: \").split()))\n",
    "    average = sum(numbers) / len(numbers)\n",
    "    print(\"Average:\", average)\n",
    "except ZeroDivisionError:\n",
    "    print(\"Cannot divide by zero. No numbers were entered.\")\n",
    "except ValueError:\n",
    "    print(\"Invalid input. Please enter only integers.\")\n",
    "finally:\n",
    "    print(\"Program has finished running.\")\n"
   ]
  },
  {
   "cell_type": "code",
   "execution_count": 12,
   "id": "4bac0ea1",
   "metadata": {},
   "outputs": [
    {
     "name": "stdout",
     "output_type": "stream",
     "text": [
      "Enter the filename to write to: string.txt\n",
      "Welcome! File written successfully.\n"
     ]
    }
   ],
   "source": [
    "#exercise_7\n",
    "#  Write a string to a file with exception handling and a welcome message\n",
    "\n",
    "\n",
    "try:\n",
    "    filename = input(\"Enter the filename to write to: \")\n",
    "    with open(filename, \"w\") as file:\n",
    "        file.write(\"Hello! This is a sample text.\")\n",
    "    print(\"Welcome! File written successfully.\")\n",
    "except Exception as e:\n",
    "    print(\"An error occurred:\", e)\n"
   ]
  },
  {
   "cell_type": "code",
   "execution_count": null,
   "id": "843a960e",
   "metadata": {},
   "outputs": [],
   "source": []
  }
 ],
 "metadata": {
  "kernelspec": {
   "display_name": "Python 3",
   "language": "python",
   "name": "python3"
  },
  "language_info": {
   "codemirror_mode": {
    "name": "ipython",
    "version": 3
   },
   "file_extension": ".py",
   "mimetype": "text/x-python",
   "name": "python",
   "nbconvert_exporter": "python",
   "pygments_lexer": "ipython3",
   "version": "3.8.8"
  }
 },
 "nbformat": 4,
 "nbformat_minor": 5
}
