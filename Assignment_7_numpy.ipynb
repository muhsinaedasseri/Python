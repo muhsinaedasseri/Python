{
 "cells": [
  {
   "cell_type": "code",
   "execution_count": 2,
   "id": "5aa4f990",
   "metadata": {},
   "outputs": [],
   "source": [
    "import numpy as np\n",
    "import pandas as pd"
   ]
  },
  {
   "cell_type": "code",
   "execution_count": 3,
   "id": "39ec2f20",
   "metadata": {},
   "outputs": [
    {
     "name": "stdout",
     "output_type": "stream",
     "text": [
      "[[ 1  2  3  4  5]\n",
      " [ 6  7  8  9 10]]\n"
     ]
    }
   ],
   "source": [
    "#Exercise 1: \n",
    "#Create a numpy array containing the numbers from 1 to 10, and then reshape it to a 2x5 matrix.\n",
    "\n",
    "arr1 = np.arange(1, 11).reshape(2, 5)\n",
    "print(arr1)\n"
   ]
  },
  {
   "cell_type": "code",
   "execution_count": 4,
   "id": "680f9186",
   "metadata": {},
   "outputs": [
    {
     "name": "stdout",
     "output_type": "stream",
     "text": [
      "[ 6  7  8  9 10 11 12 13 14 15 16]\n"
     ]
    }
   ],
   "source": [
    "#Exercise 2: \n",
    "#Create a numpy array containing the numbers from 1 to 20, and then extract the elements between the 5th and 15th index.\n",
    "\n",
    "arr2 = np.arange(1, 21)\n",
    "extracted_elements = arr2[5:16]  # Extract elements from 5th to 15th index\n",
    "print(extracted_elements)\n"
   ]
  },
  {
   "cell_type": "code",
   "execution_count": 5,
   "id": "9256416b",
   "metadata": {},
   "outputs": [
    {
     "name": "stdout",
     "output_type": "stream",
     "text": [
      "apples     3\n",
      "bananas    2\n",
      "oranges    1\n",
      "pears      4\n",
      "dtype: int64\n"
     ]
    }
   ],
   "source": [
    "#Exercise 3:\n",
    "#Create a Pandas series with the following data: {'apples': 3, 'bananas': 2, 'oranges': 1}. \n",
    "#Then, add a new item to the series with the key 'pears' and the value 4.\n",
    "\n",
    "data = {'apples': 3, 'bananas': 2, 'oranges': 1}\n",
    "series = pd.Series(data)\n",
    "series['pears'] = 4  # Adding a new item\n",
    "print(series)"
   ]
  },
  {
   "cell_type": "code",
   "execution_count": 6,
   "id": "49a5be35",
   "metadata": {},
   "outputs": [
    {
     "name": "stdout",
     "output_type": "stream",
     "text": [
      "      name  age  gender\n",
      "0    Alice   25  Female\n",
      "1      Bob   30    Male\n",
      "2  Charlie   22    Male\n",
      "3    David   35    Male\n",
      "4      Eve   40  Female\n",
      "5    Frank   28    Male\n",
      "6    Grace   33  Female\n",
      "7   Hannah   26  Female\n",
      "8    Isaac   31    Male\n",
      "9     Jack   29    Male\n"
     ]
    }
   ],
   "source": [
    "#Exercise 4:\n",
    "#Create a dataframe with the following columns: name, age, and gender. The dataframe should have 10 rows of data.\n",
    "\n",
    "data = {\n",
    "    'name': [\"Alice\", \"Bob\", \"Charlie\", \"David\", \"Eve\", \"Frank\", \"Grace\", \"Hannah\", \"Isaac\", \"Jack\"],\n",
    "    'age': [25, 30, 22, 35, 40, 28, 33, 26, 31, 29],\n",
    "    'gender': [\"Female\", \"Male\", \"Male\", \"Male\", \"Female\", \"Male\", \"Female\", \"Female\", \"Male\", \"Male\"]\n",
    "}\n",
    "df = pd.DataFrame(data)\n",
    "print(df)"
   ]
  },
  {
   "cell_type": "code",
   "execution_count": 7,
   "id": "700395f8",
   "metadata": {},
   "outputs": [
    {
     "name": "stdout",
     "output_type": "stream",
     "text": [
      "      name  age  gender  occupation\n",
      "0    Alice   25  Female  Programmer\n",
      "1      Bob   30    Male     Manager\n",
      "2  Charlie   22    Male     Analyst\n",
      "3    David   35    Male  Programmer\n",
      "4      Eve   40  Female     Manager\n",
      "5    Frank   28    Male     Analyst\n",
      "6    Grace   33  Female  Programmer\n",
      "7   Hannah   26  Female     Manager\n",
      "8    Isaac   31    Male     Analyst\n",
      "9     Jack   29    Male  Programmer\n"
     ]
    }
   ],
   "source": [
    "#Exercise 5:\n",
    "#Add a new column to the data frame created in question 1, called occupation. \n",
    "#The values for this column should be Programmer, Manager, and Analyst, corresponding to the rows in the datafram\n",
    "\n",
    "df['occupation'] = [\"Programmer\", \"Manager\", \"Analyst\", \"Programmer\", \"Manager\", \"Analyst\", \"Programmer\", \"Manager\", \"Analyst\", \"Programmer\"]\n",
    "print(df)\n"
   ]
  },
  {
   "cell_type": "code",
   "execution_count": 8,
   "id": "86123fda",
   "metadata": {},
   "outputs": [
    {
     "name": "stdout",
     "output_type": "stream",
     "text": [
      "    name  age  gender  occupation\n",
      "1    Bob   30    Male     Manager\n",
      "3  David   35    Male  Programmer\n",
      "4    Eve   40  Female     Manager\n",
      "6  Grace   33  Female  Programmer\n",
      "8  Isaac   31    Male     Analyst\n"
     ]
    }
   ],
   "source": [
    "#Exercise 6:\n",
    "#Select the rows of the dataframe where the age is greater than or equal to 30.\n",
    "\n",
    "filtered_df = df[df['age'] >= 30]\n",
    "print(filtered_df)\n"
   ]
  },
  {
   "cell_type": "code",
   "execution_count": 9,
   "id": "c5843540",
   "metadata": {},
   "outputs": [
    {
     "name": "stdout",
     "output_type": "stream",
     "text": [
      "      name  age  gender  occupation\n",
      "0    Alice   25  Female  Programmer\n",
      "1      Bob   30    Male     Manager\n",
      "2  Charlie   22    Male     Analyst\n",
      "3    David   35    Male  Programmer\n",
      "4      Eve   40  Female     Manager\n",
      "5    Frank   28    Male     Analyst\n",
      "6    Grace   33  Female  Programmer\n",
      "7   Hannah   26  Female     Manager\n",
      "8    Isaac   31    Male     Analyst\n",
      "9     Jack   29    Male  Programmer\n"
     ]
    }
   ],
   "source": [
    "#Exercise 7:\n",
    "#Convert this dataframe to a csv file and read that csv file, finally display the contents.  in python \n",
    "\n",
    "df.to_csv(\"data.csv\", index=False)  # Save to CSV\n",
    "read_df = pd.read_csv(\"data.csv\")  # Read from CSV\n",
    "print(read_df)\n",
    "\n"
   ]
  },
  {
   "cell_type": "code",
   "execution_count": null,
   "id": "4f1aeaec",
   "metadata": {},
   "outputs": [],
   "source": []
  }
 ],
 "metadata": {
  "kernelspec": {
   "display_name": "Python 3",
   "language": "python",
   "name": "python3"
  },
  "language_info": {
   "codemirror_mode": {
    "name": "ipython",
    "version": 3
   },
   "file_extension": ".py",
   "mimetype": "text/x-python",
   "name": "python",
   "nbconvert_exporter": "python",
   "pygments_lexer": "ipython3",
   "version": "3.8.8"
  }
 },
 "nbformat": 4,
 "nbformat_minor": 5
}
